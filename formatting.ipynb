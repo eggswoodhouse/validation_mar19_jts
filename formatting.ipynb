{
 "cells": [
  {
   "cell_type": "code",
   "execution_count": 11,
   "id": "8bf879a2-7dc5-4048-8d7c-896ed69bbfdd",
   "metadata": {},
   "outputs": [
    {
     "name": "stdout",
     "output_type": "stream",
     "text": [
      "    contract_id      participant   participant_price\n",
      "0             1  participants_16              0.0004\n",
      "1             2  participants_16               0.007\n",
      "2             3  participants_16               0.014\n",
      "2             3  participants_23             0.07071\n",
      "3             4  participants_16               0.025\n",
      "4             5  participants_16               1e-05\n",
      "5             6  participants_16               0.019\n",
      "6             7  participants_16               1e-05\n",
      "7             8  participants_16                0.03\n",
      "7             8   participants_5                0.08\n",
      "7             8   participants_6               0.034\n",
      "7             8  participants_23             0.04066\n",
      "8             9  participants_16               1e-05\n",
      "9            10  participants_16              0.0001\n",
      "10           11   participants_6               0.034\n",
      "10           11  participants_16             0.04305\n",
      "10           11  participants_23             0.04214\n",
      "11           12  participants_16               5e-05\n",
      "12           13   participants_6             0.01699\n",
      "12           13  participants_16                0.07\n",
      "12           13  participants_23             0.06802\n",
      "12           13  participants_24               0.075\n",
      "13           14  participants_16                0.02\n",
      "14           15  participants_16                0.05\n",
      "15           16  participants_16               0.017\n",
      "15           16   participants_4              0.0242\n",
      "16           17  participants_16                0.02\n",
      "16           17   participants_7  0.9993156095718888\n",
      "17           18  participants_16                0.02\n",
      "17           18  participants_19  0.8665684755636098\n",
      "18           19  participants_19             0.01786\n",
      "18           19  participants_16                0.07\n",
      "18           19  participants_23             0.06511\n",
      "19           20  participants_19             0.01786\n",
      "19           20  participants_16                0.07\n",
      "19           20  participants_23             0.06511\n",
      "20           21  participants_19             0.01607\n",
      "21           22  participants_19              0.0125\n",
      "22           23  participants_19               0.035\n",
      "22           23   participants_8               0.038\n",
      "22           23  participants_23             0.03929\n",
      "23           24  participants_19              0.0205\n",
      "23           24  participants_23             0.03929\n",
      "24           25  participants_19              0.0123\n",
      "25           26  participants_19               0.018\n",
      "26           27  participants_19              0.0122\n",
      "27           28  participants_19               0.015\n",
      "27           28  participants_23             0.01571\n",
      "28           29  participants_19               0.034\n",
      "28           29  participants_23             0.02393\n",
      "29           30  participants_19               0.015\n",
      "29           30  participants_16               0.025\n",
      "29           30  participants_23             0.02679\n",
      "30           31  participants_19              0.0155\n",
      "30           31   participants_7             0.06256\n",
      "30           31  participants_16                0.08\n",
      "30           31  participants_23             0.09286\n"
     ]
    }
   ],
   "source": [
    "import pandas as pd\n",
    "df = pd.read_csv(r\"C:\\Users\\james\\Documents\\interview\\raw\\interview_analysis_molecule_x_10mg_v1.tsv\", sep='\\t')\n",
    "\n",
    "# Splitting the 'participants' column\n",
    "participants_df = df['participants'].str.split('|', expand=True).stack().reset_index(level=1, drop=True).rename('participant')\n",
    "\n",
    "# Splitting the 'participants_price' column\n",
    "participants_price_df = df['participants_price'].str.split('|', expand=True).stack().reset_index(level=1, drop=True).rename('participant_price')\n",
    "\n",
    "# Concatenate the 'contract_id' with the 'participants' and 'participants_price'\n",
    "result_df = pd.concat([df['contract_id'].iloc[participants_df.index], participants_df, participants_price_df], axis=1)\n",
    "\n",
    "print(result_df)\n",
    "\n",
    "output_file_path = r\"C:\\Users\\james\\Documents\\interview\\clean\\clean_price_particpant.csv\"\n",
    "\n",
    "result_df.to_csv(output_file_path, index=False)"
   ]
  },
  {
   "cell_type": "code",
   "execution_count": null,
   "id": "68a0a3a9-af6c-4fba-8ef5-d3e9ea548ce7",
   "metadata": {},
   "outputs": [],
   "source": []
  },
  {
   "cell_type": "code",
   "execution_count": null,
   "id": "479c1a01-29bf-4509-b0fc-f9509ef7f15d",
   "metadata": {},
   "outputs": [],
   "source": []
  }
 ],
 "metadata": {
  "kernelspec": {
   "display_name": "Python 3 (ipykernel)",
   "language": "python",
   "name": "python3"
  },
  "language_info": {
   "codemirror_mode": {
    "name": "ipython",
    "version": 3
   },
   "file_extension": ".py",
   "mimetype": "text/x-python",
   "name": "python",
   "nbconvert_exporter": "python",
   "pygments_lexer": "ipython3",
   "version": "3.11.7"
  }
 },
 "nbformat": 4,
 "nbformat_minor": 5
}
